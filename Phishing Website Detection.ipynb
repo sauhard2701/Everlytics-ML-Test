{
  "cells": [
    {
      "cell_type": "markdown",
      "metadata": {
        "colab_type": "text",
        "id": "WTVY5lz4vJQM"
      },
      "source": [
        "# **Phishing Website Detection by Machine Learning Techniques**"
      ]
    },
    {
      "cell_type": "markdown",
      "metadata": {
        "colab_type": "text",
        "id": "_cJA-yD-vNcS"
      },
      "source": [
        "## **1. Objective:**\n",
        "Understanding the use of ML algorithms to detect phishing"
      ]
    },
    {
      "cell_type": "markdown",
      "metadata": {
        "colab_type": "text",
        "id": "NOq598WCqIol"
      },
      "source": [
        "## **2. Loading Data:**"
      ]
    },
    {
      "cell_type": "code",
      "execution_count": 75,
      "metadata": {
        "colab": {
          "base_uri": "https://localhost:8080/",
          "height": 70
        },
        "colab_type": "code",
        "id": "C297HhYulXcb",
        "outputId": "d6e2a9df-586e-4192-b8ec-1e7b7025c0c3"
      },
      "outputs": [],
      "source": [
        "#importing basic packages\n",
        "import pandas as pd\n",
        "import numpy as np\n",
        "import seaborn as sns\n",
        "import matplotlib.pyplot as plt"
      ]
    },
    {
      "cell_type": "code",
      "execution_count": 76,
      "metadata": {
        "colab": {
          "base_uri": "https://localhost:8080/",
          "height": 217
        },
        "colab_type": "code",
        "id": "fVPglpaf4REa",
        "outputId": "eef4a4ca-e12d-4cd3-e011-20376fc752a2"
      },
      "outputs": [
        {
          "data": {
            "text/html": [
              "<div>\n",
              "<style scoped>\n",
              "    .dataframe tbody tr th:only-of-type {\n",
              "        vertical-align: middle;\n",
              "    }\n",
              "\n",
              "    .dataframe tbody tr th {\n",
              "        vertical-align: top;\n",
              "    }\n",
              "\n",
              "    .dataframe thead th {\n",
              "        text-align: right;\n",
              "    }\n",
              "</style>\n",
              "<table border=\"1\" class=\"dataframe\">\n",
              "  <thead>\n",
              "    <tr style=\"text-align: right;\">\n",
              "      <th></th>\n",
              "      <th>having_IP_Address</th>\n",
              "      <th>URL_Length</th>\n",
              "      <th>Shortining_Service</th>\n",
              "      <th>having_At_Symbol</th>\n",
              "      <th>double_slash_redirecting</th>\n",
              "      <th>Prefix_Suffix</th>\n",
              "      <th>having_Sub_Domain</th>\n",
              "      <th>SSLfinal_State</th>\n",
              "      <th>Domain_registeration_length</th>\n",
              "      <th>Favicon</th>\n",
              "      <th>...</th>\n",
              "      <th>popUpWidnow</th>\n",
              "      <th>Iframe</th>\n",
              "      <th>age_of_domain</th>\n",
              "      <th>DNSRecord</th>\n",
              "      <th>web_traffic</th>\n",
              "      <th>Page_Rank</th>\n",
              "      <th>Google_Index</th>\n",
              "      <th>Links_pointing_to_page</th>\n",
              "      <th>Statistical_report</th>\n",
              "      <th>Result</th>\n",
              "    </tr>\n",
              "  </thead>\n",
              "  <tbody>\n",
              "    <tr>\n",
              "      <th>0</th>\n",
              "      <td>1</td>\n",
              "      <td>1</td>\n",
              "      <td>0</td>\n",
              "      <td>0</td>\n",
              "      <td>1</td>\n",
              "      <td>-1</td>\n",
              "      <td>-1</td>\n",
              "      <td>-1</td>\n",
              "      <td>0</td>\n",
              "      <td>0</td>\n",
              "      <td>...</td>\n",
              "      <td>0</td>\n",
              "      <td>0</td>\n",
              "      <td>-1</td>\n",
              "      <td>1</td>\n",
              "      <td>-1</td>\n",
              "      <td>-1</td>\n",
              "      <td>0</td>\n",
              "      <td>1</td>\n",
              "      <td>1</td>\n",
              "      <td>1</td>\n",
              "    </tr>\n",
              "    <tr>\n",
              "      <th>1</th>\n",
              "      <td>0</td>\n",
              "      <td>1</td>\n",
              "      <td>0</td>\n",
              "      <td>0</td>\n",
              "      <td>0</td>\n",
              "      <td>-1</td>\n",
              "      <td>0</td>\n",
              "      <td>1</td>\n",
              "      <td>0</td>\n",
              "      <td>0</td>\n",
              "      <td>...</td>\n",
              "      <td>0</td>\n",
              "      <td>0</td>\n",
              "      <td>-1</td>\n",
              "      <td>1</td>\n",
              "      <td>0</td>\n",
              "      <td>-1</td>\n",
              "      <td>0</td>\n",
              "      <td>1</td>\n",
              "      <td>0</td>\n",
              "      <td>1</td>\n",
              "    </tr>\n",
              "    <tr>\n",
              "      <th>2</th>\n",
              "      <td>0</td>\n",
              "      <td>0</td>\n",
              "      <td>0</td>\n",
              "      <td>0</td>\n",
              "      <td>0</td>\n",
              "      <td>-1</td>\n",
              "      <td>-1</td>\n",
              "      <td>-1</td>\n",
              "      <td>0</td>\n",
              "      <td>0</td>\n",
              "      <td>...</td>\n",
              "      <td>0</td>\n",
              "      <td>0</td>\n",
              "      <td>0</td>\n",
              "      <td>1</td>\n",
              "      <td>1</td>\n",
              "      <td>-1</td>\n",
              "      <td>0</td>\n",
              "      <td>0</td>\n",
              "      <td>1</td>\n",
              "      <td>1</td>\n",
              "    </tr>\n",
              "    <tr>\n",
              "      <th>3</th>\n",
              "      <td>0</td>\n",
              "      <td>0</td>\n",
              "      <td>0</td>\n",
              "      <td>0</td>\n",
              "      <td>0</td>\n",
              "      <td>-1</td>\n",
              "      <td>-1</td>\n",
              "      <td>-1</td>\n",
              "      <td>1</td>\n",
              "      <td>0</td>\n",
              "      <td>...</td>\n",
              "      <td>0</td>\n",
              "      <td>0</td>\n",
              "      <td>-1</td>\n",
              "      <td>1</td>\n",
              "      <td>1</td>\n",
              "      <td>-1</td>\n",
              "      <td>0</td>\n",
              "      <td>-1</td>\n",
              "      <td>0</td>\n",
              "      <td>1</td>\n",
              "    </tr>\n",
              "    <tr>\n",
              "      <th>4</th>\n",
              "      <td>0</td>\n",
              "      <td>0</td>\n",
              "      <td>1</td>\n",
              "      <td>0</td>\n",
              "      <td>0</td>\n",
              "      <td>-1</td>\n",
              "      <td>1</td>\n",
              "      <td>1</td>\n",
              "      <td>0</td>\n",
              "      <td>0</td>\n",
              "      <td>...</td>\n",
              "      <td>1</td>\n",
              "      <td>0</td>\n",
              "      <td>-1</td>\n",
              "      <td>1</td>\n",
              "      <td>0</td>\n",
              "      <td>-1</td>\n",
              "      <td>0</td>\n",
              "      <td>1</td>\n",
              "      <td>0</td>\n",
              "      <td>0</td>\n",
              "    </tr>\n",
              "  </tbody>\n",
              "</table>\n",
              "<p>5 rows × 31 columns</p>\n",
              "</div>"
            ],
            "text/plain": [
              "   having_IP_Address  URL_Length  Shortining_Service  having_At_Symbol  \\\n",
              "0                  1           1                   0                 0   \n",
              "1                  0           1                   0                 0   \n",
              "2                  0           0                   0                 0   \n",
              "3                  0           0                   0                 0   \n",
              "4                  0           0                   1                 0   \n",
              "\n",
              "   double_slash_redirecting  Prefix_Suffix  having_Sub_Domain  SSLfinal_State  \\\n",
              "0                         1             -1                 -1              -1   \n",
              "1                         0             -1                  0               1   \n",
              "2                         0             -1                 -1              -1   \n",
              "3                         0             -1                 -1              -1   \n",
              "4                         0             -1                  1               1   \n",
              "\n",
              "   Domain_registeration_length  Favicon  ...  popUpWidnow  Iframe  \\\n",
              "0                            0        0  ...            0       0   \n",
              "1                            0        0  ...            0       0   \n",
              "2                            0        0  ...            0       0   \n",
              "3                            1        0  ...            0       0   \n",
              "4                            0        0  ...            1       0   \n",
              "\n",
              "   age_of_domain  DNSRecord  web_traffic  Page_Rank  Google_Index  \\\n",
              "0             -1          1           -1         -1             0   \n",
              "1             -1          1            0         -1             0   \n",
              "2              0          1            1         -1             0   \n",
              "3             -1          1            1         -1             0   \n",
              "4             -1          1            0         -1             0   \n",
              "\n",
              "   Links_pointing_to_page  Statistical_report  Result  \n",
              "0                       1                   1       1  \n",
              "1                       1                   0       1  \n",
              "2                       0                   1       1  \n",
              "3                      -1                   0       1  \n",
              "4                       1                   0       0  \n",
              "\n",
              "[5 rows x 31 columns]"
            ]
          },
          "execution_count": 76,
          "metadata": {},
          "output_type": "execute_result"
        }
      ],
      "source": [
        "#Loading the data\n",
        "df = pd.read_csv('Phishing.csv')\n",
        "df.head()"
      ]
    },
    {
      "cell_type": "markdown",
      "metadata": {
        "colab_type": "text",
        "id": "lMXihulvMcAj"
      },
      "source": [
        "## **3. Familiarizing with Data**\n",
        "In this step, few dataframe methods are used to look into the data and its features."
      ]
    },
    {
      "cell_type": "code",
      "execution_count": 77,
      "metadata": {
        "colab": {
          "base_uri": "https://localhost:8080/",
          "height": 33
        },
        "colab_type": "code",
        "id": "4hARIXyGKorc",
        "outputId": "bc223e7f-4529-4ebe-e7d0-7eef13e691c0"
      },
      "outputs": [
        {
          "data": {
            "text/plain": [
              "(2456, 31)"
            ]
          },
          "execution_count": 77,
          "metadata": {},
          "output_type": "execute_result"
        }
      ],
      "source": [
        "#Checking the shape of the dataset\n",
        "df.shape"
      ]
    },
    {
      "cell_type": "code",
      "execution_count": 78,
      "metadata": {
        "colab": {
          "base_uri": "https://localhost:8080/",
          "height": 100
        },
        "colab_type": "code",
        "id": "Q3uBm9ObMyaG",
        "outputId": "551b4c2e-8b33-4a6a-c3e9-f168066915de"
      },
      "outputs": [
        {
          "data": {
            "text/plain": [
              "Index(['having_IP_Address', 'URL_Length', 'Shortining_Service',\n",
              "       'having_At_Symbol', 'double_slash_redirecting', 'Prefix_Suffix',\n",
              "       'having_Sub_Domain', 'SSLfinal_State', 'Domain_registeration_length',\n",
              "       'Favicon', 'port', 'HTTPS_token', 'Request_URL', 'URL_of_Anchor',\n",
              "       'Links_in_tags', 'SFH', 'Submitting_to_email', 'Abnormal_URL',\n",
              "       'Redirect', 'on_mouseover', 'RightClick', 'popUpWidnow', 'Iframe',\n",
              "       'age_of_domain', 'DNSRecord', 'web_traffic', 'Page_Rank',\n",
              "       'Google_Index', 'Links_pointing_to_page', 'Statistical_report',\n",
              "       'Result'],\n",
              "      dtype='object')"
            ]
          },
          "execution_count": 78,
          "metadata": {},
          "output_type": "execute_result"
        }
      ],
      "source": [
        "#Listing the features of the dataset\n",
        "df.columns"
      ]
    },
    {
      "cell_type": "code",
      "execution_count": 79,
      "metadata": {
        "colab": {
          "base_uri": "https://localhost:8080/",
          "height": 433
        },
        "colab_type": "code",
        "id": "gBMqupCMM74V",
        "outputId": "0e530eb9-699d-4ece-800d-8e853fc9d6ca"
      },
      "outputs": [
        {
          "name": "stdout",
          "output_type": "stream",
          "text": [
            "<class 'pandas.core.frame.DataFrame'>\n",
            "RangeIndex: 2456 entries, 0 to 2455\n",
            "Data columns (total 31 columns):\n",
            " #   Column                       Non-Null Count  Dtype\n",
            "---  ------                       --------------  -----\n",
            " 0   having_IP_Address            2456 non-null   int64\n",
            " 1   URL_Length                   2456 non-null   int64\n",
            " 2   Shortining_Service           2456 non-null   int64\n",
            " 3   having_At_Symbol             2456 non-null   int64\n",
            " 4   double_slash_redirecting     2456 non-null   int64\n",
            " 5   Prefix_Suffix                2456 non-null   int64\n",
            " 6   having_Sub_Domain            2456 non-null   int64\n",
            " 7   SSLfinal_State               2456 non-null   int64\n",
            " 8   Domain_registeration_length  2456 non-null   int64\n",
            " 9   Favicon                      2456 non-null   int64\n",
            " 10  port                         2456 non-null   int64\n",
            " 11  HTTPS_token                  2456 non-null   int64\n",
            " 12  Request_URL                  2456 non-null   int64\n",
            " 13  URL_of_Anchor                2456 non-null   int64\n",
            " 14  Links_in_tags                2456 non-null   int64\n",
            " 15  SFH                          2456 non-null   int64\n",
            " 16  Submitting_to_email          2456 non-null   int64\n",
            " 17  Abnormal_URL                 2456 non-null   int64\n",
            " 18  Redirect                     2456 non-null   int64\n",
            " 19  on_mouseover                 2456 non-null   int64\n",
            " 20  RightClick                   2456 non-null   int64\n",
            " 21  popUpWidnow                  2456 non-null   int64\n",
            " 22  Iframe                       2456 non-null   int64\n",
            " 23  age_of_domain                2456 non-null   int64\n",
            " 24  DNSRecord                    2456 non-null   int64\n",
            " 25  web_traffic                  2456 non-null   int64\n",
            " 26  Page_Rank                    2456 non-null   int64\n",
            " 27  Google_Index                 2456 non-null   int64\n",
            " 28  Links_pointing_to_page       2456 non-null   int64\n",
            " 29  Statistical_report           2456 non-null   int64\n",
            " 30  Result                       2456 non-null   int64\n",
            "dtypes: int64(31)\n",
            "memory usage: 594.9 KB\n"
          ]
        }
      ],
      "source": [
        "#Information about the dataset\n",
        "df.info()"
      ]
    },
    {
      "cell_type": "markdown",
      "metadata": {
        "colab_type": "text",
        "id": "CfrxhE3pNfiw"
      },
      "source": [
        "## **4. Visualizing the data**\n",
        "Few plots and graphs are displayed to find how the data is distributed and the how features are related to each other."
      ]
    },
    {
      "cell_type": "code",
      "execution_count": 80,
      "metadata": {
        "colab": {
          "base_uri": "https://localhost:8080/",
          "height": 879
        },
        "colab_type": "code",
        "id": "N9K0yAdAM70w",
        "outputId": "05687b93-945e-4fee-c3da-baae065ad528"
      },
      "outputs": [
        {
          "data": {
            "image/png": "[encoded data removed]",
            "text/plain": [
              "<Figure size 1080x1080 with 36 Axes>"
            ]
          },
          "metadata": {
            "needs_background": "light"
          },
          "output_type": "display_data"
        }
      ],
      "source": [
        "#Plotting the data distribution\n",
        "df.hist(bins = 50,figsize = (15,15))\n",
        "plt.show()"
      ]
    },
    {
      "cell_type": "code",
      "execution_count": 81,
      "metadata": {
        "colab": {
          "base_uri": "https://localhost:8080/",
          "height": 821
        },
        "colab_type": "code",
        "id": "jy9fjgj3M7zc",
        "outputId": "0292cc0a-8436-49d9-c724-ad9345f1b693"
      },
      "outputs": [
        {
          "data": {
            "image/png": "[encoded data removed]",
            "text/plain": [
              "<Figure size 1080x936 with 2 Axes>"
            ]
          },
          "metadata": {
            "needs_background": "light"
          },
          "output_type": "display_data"
        }
      ],
      "source": [
        "#Correlation heatmap\n",
        "\n",
        "plt.figure(figsize=(15,13))\n",
        "sns.heatmap(df.corr())\n",
        "plt.show()"
      ]
    },
    {
      "cell_type": "markdown",
      "metadata": {
        "colab_type": "text",
        "id": "9cbVPMe8NxFN"
      },
      "source": [
        "## **5. Data Preprocessing & EDA**\n",
        "Here, we clean the data by applying data preprocesssing techniques and transform the data to use it in the models."
      ]
    },
    {
      "cell_type": "code",
      "execution_count": 82,
      "metadata": {
        "colab": {
          "base_uri": "https://localhost:8080/",
          "height": 307
        },
        "colab_type": "code",
        "id": "b_HKPelgnmf8",
        "outputId": "f9fb9a1b-0ddc-470a-f4c0-db248a1a94f3"
      },
      "outputs": [
        {
          "data": {
            "text/html": [
              "<div>\n",
              "<style scoped>\n",
              "    .dataframe tbody tr th:only-of-type {\n",
              "        vertical-align: middle;\n",
              "    }\n",
              "\n",
              "    .dataframe tbody tr th {\n",
              "        vertical-align: top;\n",
              "    }\n",
              "\n",
              "    .dataframe thead th {\n",
              "        text-align: right;\n",
              "    }\n",
              "</style>\n",
              "<table border=\"1\" class=\"dataframe\">\n",
              "  <thead>\n",
              "    <tr style=\"text-align: right;\">\n",
              "      <th></th>\n",
              "      <th>having_IP_Address</th>\n",
              "      <th>URL_Length</th>\n",
              "      <th>Shortining_Service</th>\n",
              "      <th>having_At_Symbol</th>\n",
              "      <th>double_slash_redirecting</th>\n",
              "      <th>Prefix_Suffix</th>\n",
              "      <th>having_Sub_Domain</th>\n",
              "      <th>SSLfinal_State</th>\n",
              "      <th>Domain_registeration_length</th>\n",
              "      <th>Favicon</th>\n",
              "      <th>...</th>\n",
              "      <th>popUpWidnow</th>\n",
              "      <th>Iframe</th>\n",
              "      <th>age_of_domain</th>\n",
              "      <th>DNSRecord</th>\n",
              "      <th>web_traffic</th>\n",
              "      <th>Page_Rank</th>\n",
              "      <th>Google_Index</th>\n",
              "      <th>Links_pointing_to_page</th>\n",
              "      <th>Statistical_report</th>\n",
              "      <th>Result</th>\n",
              "    </tr>\n",
              "  </thead>\n",
              "  <tbody>\n",
              "    <tr>\n",
              "      <th>count</th>\n",
              "      <td>2456.000000</td>\n",
              "      <td>2456.000000</td>\n",
              "      <td>2456.000000</td>\n",
              "      <td>2456.000000</td>\n",
              "      <td>2456.000000</td>\n",
              "      <td>2456.000000</td>\n",
              "      <td>2456.000000</td>\n",
              "      <td>2456.000000</td>\n",
              "      <td>2456.000000</td>\n",
              "      <td>2456.000000</td>\n",
              "      <td>...</td>\n",
              "      <td>2456.000000</td>\n",
              "      <td>2456.000000</td>\n",
              "      <td>2456.000000</td>\n",
              "      <td>2456.000000</td>\n",
              "      <td>2456.000000</td>\n",
              "      <td>2456.000000</td>\n",
              "      <td>2456.000000</td>\n",
              "      <td>2456.000000</td>\n",
              "      <td>2456.000000</td>\n",
              "      <td>2456.000000</td>\n",
              "    </tr>\n",
              "    <tr>\n",
              "      <th>mean</th>\n",
              "      <td>0.113192</td>\n",
              "      <td>-0.649837</td>\n",
              "      <td>0.122964</td>\n",
              "      <td>0.054560</td>\n",
              "      <td>0.125407</td>\n",
              "      <td>-0.254886</td>\n",
              "      <td>-0.185668</td>\n",
              "      <td>0.255700</td>\n",
              "      <td>0.018730</td>\n",
              "      <td>0.189739</td>\n",
              "      <td>...</td>\n",
              "      <td>0.196254</td>\n",
              "      <td>0.092020</td>\n",
              "      <td>-0.003257</td>\n",
              "      <td>0.536645</td>\n",
              "      <td>0.304560</td>\n",
              "      <td>-0.540717</td>\n",
              "      <td>0.139658</td>\n",
              "      <td>0.344463</td>\n",
              "      <td>0.179153</td>\n",
              "      <td>0.445440</td>\n",
              "    </tr>\n",
              "    <tr>\n",
              "      <th>std</th>\n",
              "      <td>0.316892</td>\n",
              "      <td>0.752690</td>\n",
              "      <td>0.328463</td>\n",
              "      <td>0.227166</td>\n",
              "      <td>0.331247</td>\n",
              "      <td>0.676170</td>\n",
              "      <td>0.802068</td>\n",
              "      <td>0.912332</td>\n",
              "      <td>0.798455</td>\n",
              "      <td>0.392175</td>\n",
              "      <td>...</td>\n",
              "      <td>0.397244</td>\n",
              "      <td>0.289112</td>\n",
              "      <td>0.939726</td>\n",
              "      <td>0.498757</td>\n",
              "      <td>0.834146</td>\n",
              "      <td>0.757832</td>\n",
              "      <td>0.346702</td>\n",
              "      <td>0.568911</td>\n",
              "      <td>0.383559</td>\n",
              "      <td>0.497115</td>\n",
              "    </tr>\n",
              "    <tr>\n",
              "      <th>min</th>\n",
              "      <td>0.000000</td>\n",
              "      <td>-1.000000</td>\n",
              "      <td>0.000000</td>\n",
              "      <td>0.000000</td>\n",
              "      <td>0.000000</td>\n",
              "      <td>-1.000000</td>\n",
              "      <td>-1.000000</td>\n",
              "      <td>-1.000000</td>\n",
              "      <td>-1.000000</td>\n",
              "      <td>0.000000</td>\n",
              "      <td>...</td>\n",
              "      <td>0.000000</td>\n",
              "      <td>0.000000</td>\n",
              "      <td>-1.000000</td>\n",
              "      <td>0.000000</td>\n",
              "      <td>-1.000000</td>\n",
              "      <td>-1.000000</td>\n",
              "      <td>0.000000</td>\n",
              "      <td>-1.000000</td>\n",
              "      <td>0.000000</td>\n",
              "      <td>0.000000</td>\n",
              "    </tr>\n",
              "    <tr>\n",
              "      <th>25%</th>\n",
              "      <td>0.000000</td>\n",
              "      <td>-1.000000</td>\n",
              "      <td>0.000000</td>\n",
              "      <td>0.000000</td>\n",
              "      <td>0.000000</td>\n",
              "      <td>-1.000000</td>\n",
              "      <td>-1.000000</td>\n",
              "      <td>-1.000000</td>\n",
              "      <td>-1.000000</td>\n",
              "      <td>0.000000</td>\n",
              "      <td>...</td>\n",
              "      <td>0.000000</td>\n",
              "      <td>0.000000</td>\n",
              "      <td>-1.000000</td>\n",
              "      <td>0.000000</td>\n",
              "      <td>0.000000</td>\n",
              "      <td>-1.000000</td>\n",
              "      <td>0.000000</td>\n",
              "      <td>0.000000</td>\n",
              "      <td>0.000000</td>\n",
              "      <td>0.000000</td>\n",
              "    </tr>\n",
              "    <tr>\n",
              "      <th>50%</th>\n",
              "      <td>0.000000</td>\n",
              "      <td>-1.000000</td>\n",
              "      <td>0.000000</td>\n",
              "      <td>0.000000</td>\n",
              "      <td>0.000000</td>\n",
              "      <td>0.000000</td>\n",
              "      <td>0.000000</td>\n",
              "      <td>1.000000</td>\n",
              "      <td>0.000000</td>\n",
              "      <td>0.000000</td>\n",
              "      <td>...</td>\n",
              "      <td>0.000000</td>\n",
              "      <td>0.000000</td>\n",
              "      <td>0.000000</td>\n",
              "      <td>1.000000</td>\n",
              "      <td>1.000000</td>\n",
              "      <td>-1.000000</td>\n",
              "      <td>0.000000</td>\n",
              "      <td>0.000000</td>\n",
              "      <td>0.000000</td>\n",
              "      <td>0.000000</td>\n",
              "    </tr>\n",
              "    <tr>\n",
              "      <th>75%</th>\n",
              "      <td>0.000000</td>\n",
              "      <td>-1.000000</td>\n",
              "      <td>0.000000</td>\n",
              "      <td>0.000000</td>\n",
              "      <td>0.000000</td>\n",
              "      <td>0.000000</td>\n",
              "      <td>0.000000</td>\n",
              "      <td>1.000000</td>\n",
              "      <td>1.000000</td>\n",
              "      <td>0.000000</td>\n",
              "      <td>...</td>\n",
              "      <td>0.000000</td>\n",
              "      <td>0.000000</td>\n",
              "      <td>1.000000</td>\n",
              "      <td>1.000000</td>\n",
              "      <td>1.000000</td>\n",
              "      <td>0.000000</td>\n",
              "      <td>0.000000</td>\n",
              "      <td>1.000000</td>\n",
              "      <td>0.000000</td>\n",
              "      <td>1.000000</td>\n",
              "    </tr>\n",
              "    <tr>\n",
              "      <th>max</th>\n",
              "      <td>1.000000</td>\n",
              "      <td>1.000000</td>\n",
              "      <td>1.000000</td>\n",
              "      <td>1.000000</td>\n",
              "      <td>1.000000</td>\n",
              "      <td>1.000000</td>\n",
              "      <td>1.000000</td>\n",
              "      <td>1.000000</td>\n",
              "      <td>1.000000</td>\n",
              "      <td>1.000000</td>\n",
              "      <td>...</td>\n",
              "      <td>1.000000</td>\n",
              "      <td>1.000000</td>\n",
              "      <td>1.000000</td>\n",
              "      <td>1.000000</td>\n",
              "      <td>1.000000</td>\n",
              "      <td>1.000000</td>\n",
              "      <td>1.000000</td>\n",
              "      <td>1.000000</td>\n",
              "      <td>1.000000</td>\n",
              "      <td>1.000000</td>\n",
              "    </tr>\n",
              "  </tbody>\n",
              "</table>\n",
              "<p>8 rows × 31 columns</p>\n",
              "</div>"
            ],
            "text/plain": [
              "       having_IP_Address   URL_Length  Shortining_Service  having_At_Symbol  \\\n",
              "count        2456.000000  2456.000000         2456.000000       2456.000000   \n",
              "mean            0.113192    -0.649837            0.122964          0.054560   \n",
              "std             0.316892     0.752690            0.328463          0.227166   \n",
              "min             0.000000    -1.000000            0.000000          0.000000   \n",
              "25%             0.000000    -1.000000            0.000000          0.000000   \n",
              "50%             0.000000    -1.000000            0.000000          0.000000   \n",
              "75%             0.000000    -1.000000            0.000000          0.000000   \n",
              "max             1.000000     1.000000            1.000000          1.000000   \n",
              "\n",
              "       double_slash_redirecting  Prefix_Suffix  having_Sub_Domain  \\\n",
              "count               2456.000000    2456.000000        2456.000000   \n",
              "mean                   0.125407      -0.254886          -0.185668   \n",
              "std                    0.331247       0.676170           0.802068   \n",
              "min                    0.000000      -1.000000          -1.000000   \n",
              "25%                    0.000000      -1.000000          -1.000000   \n",
              "50%                    0.000000       0.000000           0.000000   \n",
              "75%                    0.000000       0.000000           0.000000   \n",
              "max                    1.000000       1.000000           1.000000   \n",
              "\n",
              "       SSLfinal_State  Domain_registeration_length      Favicon  ...  \\\n",
              "count     2456.000000                  2456.000000  2456.000000  ...   \n",
              "mean         0.255700                     0.018730     0.189739  ...   \n",
              "std          0.912332                     0.798455     0.392175  ...   \n",
              "min         -1.000000                    -1.000000     0.000000  ...   \n",
              "25%         -1.000000                    -1.000000     0.000000  ...   \n",
              "50%          1.000000                     0.000000     0.000000  ...   \n",
              "75%          1.000000                     1.000000     0.000000  ...   \n",
              "max          1.000000                     1.000000     1.000000  ...   \n",
              "\n",
              "       popUpWidnow       Iframe  age_of_domain    DNSRecord  web_traffic  \\\n",
              "count  2456.000000  2456.000000    2456.000000  2456.000000  2456.000000   \n",
              "mean      0.196254     0.092020      -0.003257     0.536645     0.304560   \n",
              "std       0.397244     0.289112       0.939726     0.498757     0.834146   \n",
              "min       0.000000     0.000000      -1.000000     0.000000    -1.000000   \n",
              "25%       0.000000     0.000000      -1.000000     0.000000     0.000000   \n",
              "50%       0.000000     0.000000       0.000000     1.000000     1.000000   \n",
              "75%       0.000000     0.000000       1.000000     1.000000     1.000000   \n",
              "max       1.000000     1.000000       1.000000     1.000000     1.000000   \n",
              "\n",
              "         Page_Rank  Google_Index  Links_pointing_to_page  Statistical_report  \\\n",
              "count  2456.000000   2456.000000             2456.000000         2456.000000   \n",
              "mean     -0.540717      0.139658                0.344463            0.179153   \n",
              "std       0.757832      0.346702                0.568911            0.383559   \n",
              "min      -1.000000      0.000000               -1.000000            0.000000   \n",
              "25%      -1.000000      0.000000                0.000000            0.000000   \n",
              "50%      -1.000000      0.000000                0.000000            0.000000   \n",
              "75%       0.000000      0.000000                1.000000            0.000000   \n",
              "max       1.000000      1.000000                1.000000            1.000000   \n",
              "\n",
              "            Result  \n",
              "count  2456.000000  \n",
              "mean      0.445440  \n",
              "std       0.497115  \n",
              "min       0.000000  \n",
              "25%       0.000000  \n",
              "50%       0.000000  \n",
              "75%       1.000000  \n",
              "max       1.000000  \n",
              "\n",
              "[8 rows x 31 columns]"
            ]
          },
          "execution_count": 82,
          "metadata": {},
          "output_type": "execute_result"
        }
      ],
      "source": [
        "df.describe()"
      ]
    },
    {
      "cell_type": "markdown",
      "metadata": {
        "colab_type": "text",
        "id": "XBqTcpqen_fB"
      },
      "source": [
        "The above obtained result shows that the most of the data is made of 0's & 1's except 'Domain' & 'URL_Depth' columns. The Domain column doesnt have any significance to the machine learning model training. So dropping the *'Domain'* column from the dataset. "
      ]
    },
    {
      "cell_type": "code",
      "execution_count": 83,
      "metadata": {
        "colab": {},
        "colab_type": "code",
        "id": "tdpRw0Bcn_K1"
      },
      "outputs": [],
      "source": [
        "#Dropping the Domain column\n",
        "data = df.copy()"
      ]
    },
    {
      "cell_type": "markdown",
      "metadata": {
        "colab_type": "text",
        "id": "peN2Q-WdowNL"
      },
      "source": [
        "This leaves us with 16 features & a target column. The *'URL_Depth'* maximum value is 20. According to my understanding, there is no necessity to change this column."
      ]
    },
    {
      "cell_type": "code",
      "execution_count": 84,
      "metadata": {
        "colab": {
          "base_uri": "https://localhost:8080/",
          "height": 317
        },
        "colab_type": "code",
        "id": "iGO3nWV1nvW1",
        "outputId": "f9cc1bae-b91b-483d-a1ca-44aea204dae5"
      },
      "outputs": [
        {
          "data": {
            "text/plain": [
              "False"
            ]
          },
          "execution_count": 84,
          "metadata": {},
          "output_type": "execute_result"
        }
      ],
      "source": [
        "# Check for null values\n",
        "df.isnull().values.any()"
      ]
    },
    {
      "cell_type": "markdown",
      "metadata": {
        "colab_type": "text",
        "id": "4FsQosd_nycx"
      },
      "source": [
        "From the above execution, it is clear that the data doesnot have any missing values.\n",
        "\n",
        "By this, the data is throughly preprocessed & is ready for training."
      ]
    },
    {
      "cell_type": "markdown",
      "metadata": {
        "colab_type": "text",
        "id": "Fs5hu2UR4SIF"
      },
      "source": [
        "## **6. Splitting the Data**"
      ]
    },
    {
      "cell_type": "code",
      "execution_count": 85,
      "metadata": {
        "colab": {
          "base_uri": "https://localhost:8080/",
          "height": 33
        },
        "colab_type": "code",
        "id": "FzEU-wcLN8K7",
        "outputId": "534f9839-31e6-4b19-b469-c16db57fd5a9"
      },
      "outputs": [
        {
          "data": {
            "text/plain": [
              "((2456, 30), (2456,))"
            ]
          },
          "execution_count": 85,
          "metadata": {},
          "output_type": "execute_result"
        }
      ],
      "source": [
        "# Sepratating & assigning features and target columns to X & y\n",
        "X = data.drop('Result',axis=1)\n",
        "Y = data['Result']\n",
        "X.shape, Y.shape"
      ]
    },
    {
      "cell_type": "code",
      "execution_count": 86,
      "metadata": {
        "colab": {
          "base_uri": "https://localhost:8080/",
          "height": 33
        },
        "colab_type": "code",
        "id": "84xKobSqAV3U",
        "outputId": "20c0a9f7-d20e-4176-f815-238727c44336"
      },
      "outputs": [
        {
          "data": {
            "text/plain": [
              "((1964, 30), (492, 30))"
            ]
          },
          "execution_count": 86,
          "metadata": {},
          "output_type": "execute_result"
        }
      ],
      "source": [
        "# Splitting the dataset into train and test sets: 80-20 split\n",
        "from sklearn.model_selection import train_test_split\n",
        "\n",
        "X_train, X_test, Y_train, Y_test = train_test_split(X, Y, test_size = 0.2, random_state = 12)\n",
        "X_train.shape, X_test.shape"
      ]
    },
    {
      "cell_type": "markdown",
      "metadata": {
        "colab_type": "text",
        "id": "ah9B035xOjs1"
      },
      "source": [
        "## **7. Machine Learning Models & Training**\n",
        "This is a supervised machine learning task.\n",
        "The input URL is classified as phishing (1) or legitimate (0). The supervised machine learning models (classification) considered to train the dataset in this notebook are:\n",
        "* Decision Tree\n",
        "* Random Forest\n",
        "* Multilayer Perceptrons\n",
        "* Support Vector Machines"
      ]
    },
    {
      "cell_type": "code",
      "execution_count": 87,
      "metadata": {
        "colab": {},
        "colab_type": "code",
        "id": "D5Tg_ei0-xPU"
      },
      "outputs": [],
      "source": [
        "#importing packages\n",
        "from sklearn.metrics import accuracy_score\n",
        "import itertools\n",
        "import sklearn.metrics as metrics\n",
        "from sklearn.metrics import classification_report, confusion_matrix, ConfusionMatrixDisplay"
      ]
    },
    {
      "cell_type": "code",
      "execution_count": 88,
      "metadata": {
        "colab": {},
        "colab_type": "code",
        "id": "DPBHdBikSXHv"
      },
      "outputs": [],
      "source": [
        "# Creating holders to store the model performance results\n",
        "ML_Model = []\n",
        "accuracy = []\n",
        "precision = []\n",
        "recall=[]\n",
        "f1_score=[]\n",
        "\n",
        "\n",
        "#function to call for storing the results\n",
        "def storeResults(model, a,b,c,d):\n",
        "  ML_Model.append(model)\n",
        "  accuracy.append(round(a, 3))\n",
        "  precision.append(round(b, 3))\n",
        "  recall.append(round(c, 3))\n",
        "  f1_score.append(round(d, 3))"
      ]
    },
    {
      "cell_type": "markdown",
      "metadata": {
        "colab_type": "text",
        "id": "YOolxQWs-VbB"
      },
      "source": [
        "### **7.1 Decision Tree Classifier**\n",
        " "
      ]
    },
    {
      "cell_type": "code",
      "execution_count": 89,
      "metadata": {
        "colab": {
          "base_uri": "https://localhost:8080/",
          "height": 117
        },
        "colab_type": "code",
        "id": "1kzsjtudy-0w",
        "outputId": "80b84eba-eeb1-48d1-d95a-412b7cfb4c45"
      },
      "outputs": [
        {
          "data": {
            "text/html": [
              "<style>#sk-container-id-7 {color: black;background-color: white;}#sk-container-id-7 pre{padding: 0;}#sk-container-id-7 div.sk-toggleable {background-color: white;}#sk-container-id-7 label.sk-toggleable__label {cursor: pointer;display: block;width: 100%;margin-bottom: 0;padding: 0.3em;box-sizing: border-box;text-align: center;}#sk-container-id-7 label.sk-toggleable__label-arrow:before {content: \"▸\";float: left;margin-right: 0.25em;color: #696969;}#sk-container-id-7 label.sk-toggleable__label-arrow:hover:before {color: black;}#sk-container-id-7 div.sk-estimator:hover label.sk-toggleable__label-arrow:before {color: black;}#sk-container-id-7 div.sk-toggleable__content {max-height: 0;max-width: 0;overflow: hidden;text-align: left;background-color: #f0f8ff;}#sk-container-id-7 div.sk-toggleable__content pre {margin: 0.2em;color: black;border-radius: 0.25em;background-color: #f0f8ff;}#sk-container-id-7 input.sk-toggleable__control:checked~div.sk-toggleable__content {max-height: 200px;max-width: 100%;overflow: auto;}#sk-container-id-7 input.sk-toggleable__control:checked~label.sk-toggleable__label-arrow:before {content: \"▾\";}#sk-container-id-7 div.sk-estimator input.sk-toggleable__control:checked~label.sk-toggleable__label {background-color: #d4ebff;}#sk-container-id-7 div.sk-label input.sk-toggleable__control:checked~label.sk-toggleable__label {background-color: #d4ebff;}#sk-container-id-7 input.sk-hidden--visually {border: 0;clip: rect(1px 1px 1px 1px);clip: rect(1px, 1px, 1px, 1px);height: 1px;margin: -1px;overflow: hidden;padding: 0;position: absolute;width: 1px;}#sk-container-id-7 div.sk-estimator {font-family: monospace;background-color: #f0f8ff;border: 1px dotted black;border-radius: 0.25em;box-sizing: border-box;margin-bottom: 0.5em;}#sk-container-id-7 div.sk-estimator:hover {background-color: #d4ebff;}#sk-container-id-7 div.sk-parallel-item::after {content: \"\";width: 100%;border-bottom: 1px solid gray;flex-grow: 1;}#sk-container-id-7 div.sk-label:hover label.sk-toggleable__label {background-color: #d4ebff;}#sk-container-id-7 div.sk-serial::before {content: \"\";position: absolute;border-left: 1px solid gray;box-sizing: border-box;top: 0;bottom: 0;left: 50%;z-index: 0;}#sk-container-id-7 div.sk-serial {display: flex;flex-direction: column;align-items: center;background-color: white;padding-right: 0.2em;padding-left: 0.2em;position: relative;}#sk-container-id-7 div.sk-item {position: relative;z-index: 1;}#sk-container-id-7 div.sk-parallel {display: flex;align-items: stretch;justify-content: center;background-color: white;position: relative;}#sk-container-id-7 div.sk-item::before, #sk-container-id-7 div.sk-parallel-item::before {content: \"\";position: absolute;border-left: 1px solid gray;box-sizing: border-box;top: 0;bottom: 0;left: 50%;z-index: -1;}#sk-container-id-7 div.sk-parallel-item {display: flex;flex-direction: column;z-index: 1;position: relative;background-color: white;}#sk-container-id-7 div.sk-parallel-item:first-child::after {align-self: flex-end;width: 50%;}#sk-container-id-7 div.sk-parallel-item:last-child::after {align-self: flex-start;width: 50%;}#sk-container-id-7 div.sk-parallel-item:only-child::after {width: 0;}#sk-container-id-7 div.sk-dashed-wrapped {border: 1px dashed gray;margin: 0 0.4em 0.5em 0.4em;box-sizing: border-box;padding-bottom: 0.4em;background-color: white;}#sk-container-id-7 div.sk-label label {font-family: monospace;font-weight: bold;display: inline-block;line-height: 1.2em;}#sk-container-id-7 div.sk-label-container {text-align: center;}#sk-container-id-7 div.sk-container {/* jupyter's `normalize.less` sets `[hidden] { display: none; }` but bootstrap.min.css set `[hidden] { display: none !important; }` so we also need the `!important` here to be able to override the default hidden behavior on the sphinx rendered scikit-learn.org. See: https://github.com/scikit-learn/scikit-learn/issues/21755 */display: inline-block !important;position: relative;}#sk-container-id-7 div.sk-text-repr-fallback {display: none;}</style><div id=\"sk-container-id-7\" class=\"sk-top-container\"><div class=\"sk-text-repr-fallback\"><pre>DecisionTreeClassifier(max_depth=5)</pre><b>In a Jupyter environment, please rerun this cell to show the HTML representation or trust the notebook. <br />On GitHub, the HTML representation is unable to render, please try loading this page with nbviewer.org.</b></div><div class=\"sk-container\" hidden><div class=\"sk-item\"><div class=\"sk-estimator sk-toggleable\"><input class=\"sk-toggleable__control sk-hidden--visually\" id=\"sk-estimator-id-7\" type=\"checkbox\" checked><label for=\"sk-estimator-id-7\" class=\"sk-toggleable__label sk-toggleable__label-arrow\">DecisionTreeClassifier</label><div class=\"sk-toggleable__content\"><pre>DecisionTreeClassifier(max_depth=5)</pre></div></div></div></div></div>"
            ],
            "text/plain": [
              "DecisionTreeClassifier(max_depth=5)"
            ]
          },
          "execution_count": 89,
          "metadata": {},
          "output_type": "execute_result"
        }
      ],
      "source": [
        "# Decision Tree model \n",
        "from sklearn.tree import DecisionTreeClassifier\n",
        "\n",
        "# instantiate the model \n",
        "tree = DecisionTreeClassifier(max_depth = 5)\n",
        "# fit the model \n",
        "tree.fit(X_train, Y_train)"
      ]
    },
    {
      "cell_type": "code",
      "execution_count": 90,
      "metadata": {
        "colab": {},
        "colab_type": "code",
        "id": "cpPk7O-MrTZi"
      },
      "outputs": [],
      "source": [
        "#predicting the target value from the model for the samples\n",
        "Y_test_tree = tree.predict(X_test)\n",
        "Y_train_tree = tree.predict(X_train)"
      ]
    },
    {
      "cell_type": "markdown",
      "metadata": {
        "colab_type": "text",
        "id": "kLn-_qOuS_9Y"
      },
      "source": [
        "**Performance Evaluation:**"
      ]
    },
    {
      "cell_type": "code",
      "execution_count": 91,
      "metadata": {
        "colab": {
          "base_uri": "https://localhost:8080/",
          "height": 442
        },
        "colab_type": "code",
        "id": "LITrJdVGWwTl",
        "outputId": "363e0abd-28df-4703-b784-5f5af37cab30"
      },
      "outputs": [
        {
          "data": {
            "image/png": "[encoded data removed]",
            "text/plain": [
              "<Figure size 648x504 with 1 Axes>"
            ]
          },
          "metadata": {
            "needs_background": "light"
          },
          "output_type": "display_data"
        }
      ],
      "source": [
        "#checking the feature improtance in the model\n",
        "plt.figure(figsize=(9,7))\n",
        "n_features = X_train.shape[1]\n",
        "plt.barh(range(n_features), tree.feature_importances_, align='center')\n",
        "plt.yticks(np.arange(n_features), X_train.columns)\n",
        "plt.xlabel(\"Feature importance\")\n",
        "plt.ylabel(\"Feature\")\n",
        "plt.show()"
      ]
    },
    {
      "cell_type": "code",
      "execution_count": 92,
      "metadata": {},
      "outputs": [
        {
          "name": "stdout",
          "output_type": "stream",
          "text": [
            "Confusion Matrix - Decision Tree\n",
            "[[241  21]\n",
            " [  7 223]]\n"
          ]
        }
      ],
      "source": [
        "confusion_matrix_dt = confusion_matrix(Y_test, Y_test_tree)\n",
        "print(\"Confusion Matrix - Decision Tree\")\n",
        "print(confusion_matrix_dt,)"
      ]
    },
    {
      "cell_type": "code",
      "execution_count": 93,
      "metadata": {},
      "outputs": [
        {
          "name": "stdout",
          "output_type": "stream",
          "text": [
            "tp,fp,tn,fn - Decision Tree\n"
          ]
        }
      ],
      "source": [
        "print(\"tp,fp,tn,fn - Decision Tree\")\n",
        "tn, fp, fn, tp = confusion_matrix(Y_test, Y_test_tree).ravel()\n",
        "\n",
        "accuracy_model  =(tp+tn)/(tp+tn+fp+fn)\n",
        "precision_score =(tp)/(tp+fp)\n",
        "recall_score  =(tp)/(tp+fn)\n",
        "f1 =2*(( precision_score * recall_score)/( precision_score + recall_score))"
      ]
    },
    {
      "cell_type": "code",
      "execution_count": 94,
      "metadata": {},
      "outputs": [
        {
          "name": "stdout",
          "output_type": "stream",
          "text": [
            "Classification Report - Decision Tree\n",
            "              precision    recall  f1-score   support\n",
            "\n",
            "           0       0.97      0.92      0.95       262\n",
            "           1       0.91      0.97      0.94       230\n",
            "\n",
            "    accuracy                           0.94       492\n",
            "   macro avg       0.94      0.94      0.94       492\n",
            "weighted avg       0.94      0.94      0.94       492\n",
            "\n"
          ]
        }
      ],
      "source": [
        "classification_report_dt = classification_report(Y_test, Y_test_tree)\n",
        "print(\"Classification Report - Decision Tree\")\n",
        "print(classification_report_dt)"
      ]
    },
    {
      "cell_type": "markdown",
      "metadata": {
        "colab_type": "text",
        "id": "XpC9PAn5RTfY"
      },
      "source": [
        "**Storing the results:**"
      ]
    },
    {
      "cell_type": "code",
      "execution_count": 95,
      "metadata": {
        "colab": {},
        "colab_type": "code",
        "id": "5XKvXxr9RSxl"
      },
      "outputs": [],
      "source": [
        "storeResults('Decision Tree',accuracy_model,precision_score,recall_score,f1)"
      ]
    },
    {
      "cell_type": "markdown",
      "metadata": {
        "colab_type": "text",
        "id": "LuDTMcmb-n5x"
      },
      "source": [
        "### **7.2 Random Forest Classifier**\n"
      ]
    },
    {
      "cell_type": "code",
      "execution_count": 96,
      "metadata": {
        "colab": {
          "base_uri": "https://localhost:8080/",
          "height": 150
        },
        "colab_type": "code",
        "id": "2fmB9rPSsR6y",
        "outputId": "27ddebf4-bee1-4eec-eb4e-995d4cdc08b2"
      },
      "outputs": [
        {
          "data": {
            "text/html": [
              "<style>#sk-container-id-8 {color: black;background-color: white;}#sk-container-id-8 pre{padding: 0;}#sk-container-id-8 div.sk-toggleable {background-color: white;}#sk-container-id-8 label.sk-toggleable__label {cursor: pointer;display: block;width: 100%;margin-bottom: 0;padding: 0.3em;box-sizing: border-box;text-align: center;}#sk-container-id-8 label.sk-toggleable__label-arrow:before {content: \"▸\";float: left;margin-right: 0.25em;color: #696969;}#sk-container-id-8 label.sk-toggleable__label-arrow:hover:before {color: black;}#sk-container-id-8 div.sk-estimator:hover label.sk-toggleable__label-arrow:before {color: black;}#sk-container-id-8 div.sk-toggleable__content {max-height: 0;max-width: 0;overflow: hidden;text-align: left;background-color: #f0f8ff;}#sk-container-id-8 div.sk-toggleable__content pre {margin: 0.2em;color: black;border-radius: 0.25em;background-color: #f0f8ff;}#sk-container-id-8 input.sk-toggleable__control:checked~div.sk-toggleable__content {max-height: 200px;max-width: 100%;overflow: auto;}#sk-container-id-8 input.sk-toggleable__control:checked~label.sk-toggleable__label-arrow:before {content: \"▾\";}#sk-container-id-8 div.sk-estimator input.sk-toggleable__control:checked~label.sk-toggleable__label {background-color: #d4ebff;}#sk-container-id-8 div.sk-label input.sk-toggleable__control:checked~label.sk-toggleable__label {background-color: #d4ebff;}#sk-container-id-8 input.sk-hidden--visually {border: 0;clip: rect(1px 1px 1px 1px);clip: rect(1px, 1px, 1px, 1px);height: 1px;margin: -1px;overflow: hidden;padding: 0;position: absolute;width: 1px;}#sk-container-id-8 div.sk-estimator {font-family: monospace;background-color: #f0f8ff;border: 1px dotted black;border-radius: 0.25em;box-sizing: border-box;margin-bottom: 0.5em;}#sk-container-id-8 div.sk-estimator:hover {background-color: #d4ebff;}#sk-container-id-8 div.sk-parallel-item::after {content: \"\";width: 100%;border-bottom: 1px solid gray;flex-grow: 1;}#sk-container-id-8 div.sk-label:hover label.sk-toggleable__label {background-color: #d4ebff;}#sk-container-id-8 div.sk-serial::before {content: \"\";position: absolute;border-left: 1px solid gray;box-sizing: border-box;top: 0;bottom: 0;left: 50%;z-index: 0;}#sk-container-id-8 div.sk-serial {display: flex;flex-direction: column;align-items: center;background-color: white;padding-right: 0.2em;padding-left: 0.2em;position: relative;}#sk-container-id-8 div.sk-item {position: relative;z-index: 1;}#sk-container-id-8 div.sk-parallel {display: flex;align-items: stretch;justify-content: center;background-color: white;position: relative;}#sk-container-id-8 div.sk-item::before, #sk-container-id-8 div.sk-parallel-item::before {content: \"\";position: absolute;border-left: 1px solid gray;box-sizing: border-box;top: 0;bottom: 0;left: 50%;z-index: -1;}#sk-container-id-8 div.sk-parallel-item {display: flex;flex-direction: column;z-index: 1;position: relative;background-color: white;}#sk-container-id-8 div.sk-parallel-item:first-child::after {align-self: flex-end;width: 50%;}#sk-container-id-8 div.sk-parallel-item:last-child::after {align-self: flex-start;width: 50%;}#sk-container-id-8 div.sk-parallel-item:only-child::after {width: 0;}#sk-container-id-8 div.sk-dashed-wrapped {border: 1px dashed gray;margin: 0 0.4em 0.5em 0.4em;box-sizing: border-box;padding-bottom: 0.4em;background-color: white;}#sk-container-id-8 div.sk-label label {font-family: monospace;font-weight: bold;display: inline-block;line-height: 1.2em;}#sk-container-id-8 div.sk-label-container {text-align: center;}#sk-container-id-8 div.sk-container {/* jupyter's `normalize.less` sets `[hidden] { display: none; }` but bootstrap.min.css set `[hidden] { display: none !important; }` so we also need the `!important` here to be able to override the default hidden behavior on the sphinx rendered scikit-learn.org. See: https://github.com/scikit-learn/scikit-learn/issues/21755 */display: inline-block !important;position: relative;}#sk-container-id-8 div.sk-text-repr-fallback {display: none;}</style><div id=\"sk-container-id-8\" class=\"sk-top-container\"><div class=\"sk-text-repr-fallback\"><pre>RandomForestClassifier(max_depth=5)</pre><b>In a Jupyter environment, please rerun this cell to show the HTML representation or trust the notebook. <br />On GitHub, the HTML representation is unable to render, please try loading this page with nbviewer.org.</b></div><div class=\"sk-container\" hidden><div class=\"sk-item\"><div class=\"sk-estimator sk-toggleable\"><input class=\"sk-toggleable__control sk-hidden--visually\" id=\"sk-estimator-id-8\" type=\"checkbox\" checked><label for=\"sk-estimator-id-8\" class=\"sk-toggleable__label sk-toggleable__label-arrow\">RandomForestClassifier</label><div class=\"sk-toggleable__content\"><pre>RandomForestClassifier(max_depth=5)</pre></div></div></div></div></div>"
            ],
            "text/plain": [
              "RandomForestClassifier(max_depth=5)"
            ]
          },
          "execution_count": 96,
          "metadata": {},
          "output_type": "execute_result"
        }
      ],
      "source": [
        "# Random Forest model\n",
        "from sklearn.ensemble import RandomForestClassifier\n",
        "\n",
        "# instantiate the model\n",
        "forest = RandomForestClassifier(max_depth=5)\n",
        "\n",
        "# fit the model \n",
        "forest.fit(X_train, Y_train)"
      ]
    },
    {
      "cell_type": "code",
      "execution_count": 97,
      "metadata": {
        "colab": {},
        "colab_type": "code",
        "id": "J1Qck-wrsabB"
      },
      "outputs": [],
      "source": [
        "#predicting the target value from the model for the samples\n",
        "Y_test_forest = forest.predict(X_test)\n",
        "Y_train_forest = forest.predict(X_train)"
      ]
    },
    {
      "cell_type": "markdown",
      "metadata": {
        "colab_type": "text",
        "id": "i8TybBPHT1ao"
      },
      "source": [
        "**Performance Evaluation:**"
      ]
    },
    {
      "cell_type": "code",
      "execution_count": 98,
      "metadata": {
        "colab": {
          "base_uri": "https://localhost:8080/",
          "height": 442
        },
        "colab_type": "code",
        "id": "m9GZGxvZ9jnB",
        "outputId": "465186a8-d622-4427-c148-9dff349b40eb"
      },
      "outputs": [
        {
          "data": {
            "image/png": "[encoded data removed]",
            "text/plain": [
              "<Figure size 648x504 with 1 Axes>"
            ]
          },
          "metadata": {
            "needs_background": "light"
          },
          "output_type": "display_data"
        }
      ],
      "source": [
        "#checking the feature improtance in the model\n",
        "plt.figure(figsize=(9,7))\n",
        "n_features = X_train.shape[1]\n",
        "plt.barh(range(n_features), forest.feature_importances_, align='center')\n",
        "plt.yticks(np.arange(n_features), X_train.columns)\n",
        "plt.xlabel(\"Feature importance\")\n",
        "plt.ylabel(\"Feature\")\n",
        "plt.show()"
      ]
    },
    {
      "cell_type": "code",
      "execution_count": 99,
      "metadata": {},
      "outputs": [
        {
          "name": "stdout",
          "output_type": "stream",
          "text": [
            "Confusion Matrix - Random Forest\n",
            "[[257   5]\n",
            " [ 16 214]]\n"
          ]
        }
      ],
      "source": [
        "confusion_matrix_rf = confusion_matrix(Y_test, Y_test_forest)\n",
        "print(\"Confusion Matrix - Random Forest\")\n",
        "print(confusion_matrix_rf,)"
      ]
    },
    {
      "cell_type": "code",
      "execution_count": 100,
      "metadata": {},
      "outputs": [
        {
          "name": "stdout",
          "output_type": "stream",
          "text": [
            "tp,fp,tn,fn - Random Forest\n"
          ]
        }
      ],
      "source": [
        "print(\"tp,fp,tn,fn - Random Forest\")\n",
        "tn, fp, fn, tp = confusion_matrix(Y_test, Y_test_forest).ravel()\n",
        "\n",
        "accuracy_model  =(tp+tn)/(tp+tn+fp+fn)\n",
        "precision_score =(tp)/(tp+fp)\n",
        "recall_score  =(tp)/(tp+fn)\n",
        "f1 =2*(( precision_score * recall_score)/( precision_score + recall_score))"
      ]
    },
    {
      "cell_type": "code",
      "execution_count": 101,
      "metadata": {},
      "outputs": [
        {
          "name": "stdout",
          "output_type": "stream",
          "text": [
            "Classification Report - Random Forest\n",
            "              precision    recall  f1-score   support\n",
            "\n",
            "           0       0.94      0.98      0.96       262\n",
            "           1       0.98      0.93      0.95       230\n",
            "\n",
            "    accuracy                           0.96       492\n",
            "   macro avg       0.96      0.96      0.96       492\n",
            "weighted avg       0.96      0.96      0.96       492\n",
            "\n"
          ]
        }
      ],
      "source": [
        "classification_report_rf = classification_report(Y_test, Y_test_forest)\n",
        "print(\"Classification Report - Random Forest\")\n",
        "print(classification_report_rf)"
      ]
    },
    {
      "cell_type": "markdown",
      "metadata": {
        "colab_type": "text",
        "id": "t6U_BEF8W-FS"
      },
      "source": [
        "**Storing the results:**"
      ]
    },
    {
      "cell_type": "code",
      "execution_count": 102,
      "metadata": {
        "colab": {},
        "colab_type": "code",
        "id": "YNf4EXHUW-FU"
      },
      "outputs": [],
      "source": [
        "storeResults('Random Forest',accuracy_model,precision_score,recall_score,f1)"
      ]
    },
    {
      "cell_type": "markdown",
      "metadata": {
        "colab_type": "text",
        "id": "VJ_EW8QUC0bn"
      },
      "source": [
        "### **7.3 Multilayer Perceptrons (MLPs): Deep Learning**"
      ]
    },
    {
      "cell_type": "code",
      "execution_count": 103,
      "metadata": {
        "colab": {
          "base_uri": "https://localhost:8080/",
          "height": 150
        },
        "colab_type": "code",
        "id": "JSFAbsgnAxqv",
        "outputId": "2828ce2e-95ec-4dfd-e7dd-5d3da152ea09"
      },
      "outputs": [
        {
          "data": {
            "text/html": [
              "<style>#sk-container-id-9 {color: black;background-color: white;}#sk-container-id-9 pre{padding: 0;}#sk-container-id-9 div.sk-toggleable {background-color: white;}#sk-container-id-9 label.sk-toggleable__label {cursor: pointer;display: block;width: 100%;margin-bottom: 0;padding: 0.3em;box-sizing: border-box;text-align: center;}#sk-container-id-9 label.sk-toggleable__label-arrow:before {content: \"▸\";float: left;margin-right: 0.25em;color: #696969;}#sk-container-id-9 label.sk-toggleable__label-arrow:hover:before {color: black;}#sk-container-id-9 div.sk-estimator:hover label.sk-toggleable__label-arrow:before {color: black;}#sk-container-id-9 div.sk-toggleable__content {max-height: 0;max-width: 0;overflow: hidden;text-align: left;background-color: #f0f8ff;}#sk-container-id-9 div.sk-toggleable__content pre {margin: 0.2em;color: black;border-radius: 0.25em;background-color: #f0f8ff;}#sk-container-id-9 input.sk-toggleable__control:checked~div.sk-toggleable__content {max-height: 200px;max-width: 100%;overflow: auto;}#sk-container-id-9 input.sk-toggleable__control:checked~label.sk-toggleable__label-arrow:before {content: \"▾\";}#sk-container-id-9 div.sk-estimator input.sk-toggleable__control:checked~label.sk-toggleable__label {background-color: #d4ebff;}#sk-container-id-9 div.sk-label input.sk-toggleable__control:checked~label.sk-toggleable__label {background-color: #d4ebff;}#sk-container-id-9 input.sk-hidden--visually {border: 0;clip: rect(1px 1px 1px 1px);clip: rect(1px, 1px, 1px, 1px);height: 1px;margin: -1px;overflow: hidden;padding: 0;position: absolute;width: 1px;}#sk-container-id-9 div.sk-estimator {font-family: monospace;background-color: #f0f8ff;border: 1px dotted black;border-radius: 0.25em;box-sizing: border-box;margin-bottom: 0.5em;}#sk-container-id-9 div.sk-estimator:hover {background-color: #d4ebff;}#sk-container-id-9 div.sk-parallel-item::after {content: \"\";width: 100%;border-bottom: 1px solid gray;flex-grow: 1;}#sk-container-id-9 div.sk-label:hover label.sk-toggleable__label {background-color: #d4ebff;}#sk-container-id-9 div.sk-serial::before {content: \"\";position: absolute;border-left: 1px solid gray;box-sizing: border-box;top: 0;bottom: 0;left: 50%;z-index: 0;}#sk-container-id-9 div.sk-serial {display: flex;flex-direction: column;align-items: center;background-color: white;padding-right: 0.2em;padding-left: 0.2em;position: relative;}#sk-container-id-9 div.sk-item {position: relative;z-index: 1;}#sk-container-id-9 div.sk-parallel {display: flex;align-items: stretch;justify-content: center;background-color: white;position: relative;}#sk-container-id-9 div.sk-item::before, #sk-container-id-9 div.sk-parallel-item::before {content: \"\";position: absolute;border-left: 1px solid gray;box-sizing: border-box;top: 0;bottom: 0;left: 50%;z-index: -1;}#sk-container-id-9 div.sk-parallel-item {display: flex;flex-direction: column;z-index: 1;position: relative;background-color: white;}#sk-container-id-9 div.sk-parallel-item:first-child::after {align-self: flex-end;width: 50%;}#sk-container-id-9 div.sk-parallel-item:last-child::after {align-self: flex-start;width: 50%;}#sk-container-id-9 div.sk-parallel-item:only-child::after {width: 0;}#sk-container-id-9 div.sk-dashed-wrapped {border: 1px dashed gray;margin: 0 0.4em 0.5em 0.4em;box-sizing: border-box;padding-bottom: 0.4em;background-color: white;}#sk-container-id-9 div.sk-label label {font-family: monospace;font-weight: bold;display: inline-block;line-height: 1.2em;}#sk-container-id-9 div.sk-label-container {text-align: center;}#sk-container-id-9 div.sk-container {/* jupyter's `normalize.less` sets `[hidden] { display: none; }` but bootstrap.min.css set `[hidden] { display: none !important; }` so we also need the `!important` here to be able to override the default hidden behavior on the sphinx rendered scikit-learn.org. See: https://github.com/scikit-learn/scikit-learn/issues/21755 */display: inline-block !important;position: relative;}#sk-container-id-9 div.sk-text-repr-fallback {display: none;}</style><div id=\"sk-container-id-9\" class=\"sk-top-container\"><div class=\"sk-text-repr-fallback\"><pre>MLPClassifier(alpha=0.001, hidden_layer_sizes=[100, 100, 100])</pre><b>In a Jupyter environment, please rerun this cell to show the HTML representation or trust the notebook. <br />On GitHub, the HTML representation is unable to render, please try loading this page with nbviewer.org.</b></div><div class=\"sk-container\" hidden><div class=\"sk-item\"><div class=\"sk-estimator sk-toggleable\"><input class=\"sk-toggleable__control sk-hidden--visually\" id=\"sk-estimator-id-9\" type=\"checkbox\" checked><label for=\"sk-estimator-id-9\" class=\"sk-toggleable__label sk-toggleable__label-arrow\">MLPClassifier</label><div class=\"sk-toggleable__content\"><pre>MLPClassifier(alpha=0.001, hidden_layer_sizes=[100, 100, 100])</pre></div></div></div></div></div>"
            ],
            "text/plain": [
              "MLPClassifier(alpha=0.001, hidden_layer_sizes=[100, 100, 100])"
            ]
          },
          "execution_count": 103,
          "metadata": {},
          "output_type": "execute_result"
        }
      ],
      "source": [
        "# Multilayer Perceptrons model\n",
        "from sklearn.neural_network import MLPClassifier\n",
        "\n",
        "# instantiate the model\n",
        "mlp = MLPClassifier(alpha=0.001, hidden_layer_sizes=([100,100,100]))\n",
        "\n",
        "# fit the model \n",
        "mlp.fit(X_train, Y_train)"
      ]
    },
    {
      "cell_type": "code",
      "execution_count": 104,
      "metadata": {
        "colab": {},
        "colab_type": "code",
        "id": "gyuSg6w_A4pN"
      },
      "outputs": [],
      "source": [
        "#predicting the target value from the model for the samples\n",
        "Y_test_mlp = mlp.predict(X_test)\n",
        "Y_train_mlp = mlp.predict(X_train)"
      ]
    },
    {
      "cell_type": "markdown",
      "metadata": {
        "colab_type": "text",
        "id": "UlDx0rDXatCl"
      },
      "source": [
        "**Performance Evaluation:**"
      ]
    },
    {
      "cell_type": "code",
      "execution_count": 105,
      "metadata": {},
      "outputs": [
        {
          "name": "stdout",
          "output_type": "stream",
          "text": [
            "Confusion Matrix - MLP\n",
            "[[253   9]\n",
            " [  8 222]]\n"
          ]
        }
      ],
      "source": [
        "confusion_matrix_mlp = confusion_matrix(Y_test, Y_test_mlp)\n",
        "print(\"Confusion Matrix - MLP\")\n",
        "print(confusion_matrix_mlp)"
      ]
    },
    {
      "cell_type": "code",
      "execution_count": 106,
      "metadata": {},
      "outputs": [
        {
          "name": "stdout",
          "output_type": "stream",
          "text": [
            "tp,fp,tn,fn - MLP\n"
          ]
        }
      ],
      "source": [
        "print(\"tp,fp,tn,fn - MLP\")\n",
        "tn, fp, fn, tp = confusion_matrix(Y_test, Y_test_mlp).ravel()\n",
        "\n",
        "accuracy_model  =(tp+tn)/(tp+tn+fp+fn)\n",
        "precision_score =(tp)/(tp+fp)\n",
        "recall_score  =(tp)/(tp+fn)\n",
        "f1 =2*(( precision_score * recall_score)/( precision_score + recall_score))"
      ]
    },
    {
      "cell_type": "code",
      "execution_count": 107,
      "metadata": {},
      "outputs": [
        {
          "name": "stdout",
          "output_type": "stream",
          "text": [
            "Classification Report - MLP\n",
            "              precision    recall  f1-score   support\n",
            "\n",
            "           0       0.97      0.97      0.97       262\n",
            "           1       0.96      0.97      0.96       230\n",
            "\n",
            "    accuracy                           0.97       492\n",
            "   macro avg       0.97      0.97      0.97       492\n",
            "weighted avg       0.97      0.97      0.97       492\n",
            "\n"
          ]
        }
      ],
      "source": [
        "classification_report_mlp = classification_report(Y_test, Y_test_mlp)\n",
        "print(\"Classification Report - MLP\")\n",
        "print(classification_report_mlp)"
      ]
    },
    {
      "cell_type": "markdown",
      "metadata": {
        "colab_type": "text",
        "id": "zjBgfI64Xubd"
      },
      "source": [
        "**Storing the results:**"
      ]
    },
    {
      "cell_type": "code",
      "execution_count": 108,
      "metadata": {
        "colab": {},
        "colab_type": "code",
        "id": "N0fsq4yEXubk"
      },
      "outputs": [],
      "source": [
        "storeResults('MLP',accuracy_model,precision_score,recall_score,f1)"
      ]
    },
    {
      "cell_type": "markdown",
      "metadata": {
        "colab_type": "text",
        "id": "lVuTty-KaS4c"
      },
      "source": [
        "### **7.4 XGBoost Classifier**\n",
        "XGBoost is one of the most popular machine learning algorithms these days. XGBoost stands for eXtreme Gradient Boosting. Regardless of the type of prediction task at hand; regression or classification. XGBoost is an implementation of gradient boosted decision trees designed for speed and performance."
      ]
    },
    {
      "cell_type": "code",
      "execution_count": 109,
      "metadata": {
        "colab": {
          "base_uri": "https://localhost:8080/",
          "height": 133
        },
        "colab_type": "code",
        "id": "oIIQGzxgAREc",
        "outputId": "fc27da07-7071-4fbf-9d05-05e514ad9b3e"
      },
      "outputs": [
        {
          "data": {
            "text/html": [
              "<style>#sk-container-id-10 {color: black;background-color: white;}#sk-container-id-10 pre{padding: 0;}#sk-container-id-10 div.sk-toggleable {background-color: white;}#sk-container-id-10 label.sk-toggleable__label {cursor: pointer;display: block;width: 100%;margin-bottom: 0;padding: 0.3em;box-sizing: border-box;text-align: center;}#sk-container-id-10 label.sk-toggleable__label-arrow:before {content: \"▸\";float: left;margin-right: 0.25em;color: #696969;}#sk-container-id-10 label.sk-toggleable__label-arrow:hover:before {color: black;}#sk-container-id-10 div.sk-estimator:hover label.sk-toggleable__label-arrow:before {color: black;}#sk-container-id-10 div.sk-toggleable__content {max-height: 0;max-width: 0;overflow: hidden;text-align: left;background-color: #f0f8ff;}#sk-container-id-10 div.sk-toggleable__content pre {margin: 0.2em;color: black;border-radius: 0.25em;background-color: #f0f8ff;}#sk-container-id-10 input.sk-toggleable__control:checked~div.sk-toggleable__content {max-height: 200px;max-width: 100%;overflow: auto;}#sk-container-id-10 input.sk-toggleable__control:checked~label.sk-toggleable__label-arrow:before {content: \"▾\";}#sk-container-id-10 div.sk-estimator input.sk-toggleable__control:checked~label.sk-toggleable__label {background-color: #d4ebff;}#sk-container-id-10 div.sk-label input.sk-toggleable__control:checked~label.sk-toggleable__label {background-color: #d4ebff;}#sk-container-id-10 input.sk-hidden--visually {border: 0;clip: rect(1px 1px 1px 1px);clip: rect(1px, 1px, 1px, 1px);height: 1px;margin: -1px;overflow: hidden;padding: 0;position: absolute;width: 1px;}#sk-container-id-10 div.sk-estimator {font-family: monospace;background-color: #f0f8ff;border: 1px dotted black;border-radius: 0.25em;box-sizing: border-box;margin-bottom: 0.5em;}#sk-container-id-10 div.sk-estimator:hover {background-color: #d4ebff;}#sk-container-id-10 div.sk-parallel-item::after {content: \"\";width: 100%;border-bottom: 1px solid gray;flex-grow: 1;}#sk-container-id-10 div.sk-label:hover label.sk-toggleable__label {background-color: #d4ebff;}#sk-container-id-10 div.sk-serial::before {content: \"\";position: absolute;border-left: 1px solid gray;box-sizing: border-box;top: 0;bottom: 0;left: 50%;z-index: 0;}#sk-container-id-10 div.sk-serial {display: flex;flex-direction: column;align-items: center;background-color: white;padding-right: 0.2em;padding-left: 0.2em;position: relative;}#sk-container-id-10 div.sk-item {position: relative;z-index: 1;}#sk-container-id-10 div.sk-parallel {display: flex;align-items: stretch;justify-content: center;background-color: white;position: relative;}#sk-container-id-10 div.sk-item::before, #sk-container-id-10 div.sk-parallel-item::before {content: \"\";position: absolute;border-left: 1px solid gray;box-sizing: border-box;top: 0;bottom: 0;left: 50%;z-index: -1;}#sk-container-id-10 div.sk-parallel-item {display: flex;flex-direction: column;z-index: 1;position: relative;background-color: white;}#sk-container-id-10 div.sk-parallel-item:first-child::after {align-self: flex-end;width: 50%;}#sk-container-id-10 div.sk-parallel-item:last-child::after {align-self: flex-start;width: 50%;}#sk-container-id-10 div.sk-parallel-item:only-child::after {width: 0;}#sk-container-id-10 div.sk-dashed-wrapped {border: 1px dashed gray;margin: 0 0.4em 0.5em 0.4em;box-sizing: border-box;padding-bottom: 0.4em;background-color: white;}#sk-container-id-10 div.sk-label label {font-family: monospace;font-weight: bold;display: inline-block;line-height: 1.2em;}#sk-container-id-10 div.sk-label-container {text-align: center;}#sk-container-id-10 div.sk-container {/* jupyter's `normalize.less` sets `[hidden] { display: none; }` but bootstrap.min.css set `[hidden] { display: none !important; }` so we also need the `!important` here to be able to override the default hidden behavior on the sphinx rendered scikit-learn.org. See: https://github.com/scikit-learn/scikit-learn/issues/21755 */display: inline-block !important;position: relative;}#sk-container-id-10 div.sk-text-repr-fallback {display: none;}</style><div id=\"sk-container-id-10\" class=\"sk-top-container\"><div class=\"sk-text-repr-fallback\"><pre>XGBClassifier(base_score=0.5, booster=&#x27;gbtree&#x27;, colsample_bylevel=1,\n",
              "              colsample_bynode=1, colsample_bytree=1, gamma=0, gpu_id=-1,\n",
              "              importance_type=&#x27;gain&#x27;, interaction_constraints=&#x27;&#x27;,\n",
              "              learning_rate=0.4, max_delta_step=0, max_depth=7,\n",
              "              min_child_weight=1, missing=nan, monotone_constraints=&#x27;()&#x27;,\n",
              "              n_estimators=100, n_jobs=12, num_parallel_tree=1, random_state=0,\n",
              "              reg_alpha=0, reg_lambda=1, scale_pos_weight=1, subsample=1,\n",
              "              tree_method=&#x27;exact&#x27;, use_label_encoder=False,\n",
              "              validate_parameters=1, verbosity=None)</pre><b>In a Jupyter environment, please rerun this cell to show the HTML representation or trust the notebook. <br />On GitHub, the HTML representation is unable to render, please try loading this page with nbviewer.org.</b></div><div class=\"sk-container\" hidden><div class=\"sk-item\"><div class=\"sk-estimator sk-toggleable\"><input class=\"sk-toggleable__control sk-hidden--visually\" id=\"sk-estimator-id-10\" type=\"checkbox\" checked><label for=\"sk-estimator-id-10\" class=\"sk-toggleable__label sk-toggleable__label-arrow\">XGBClassifier</label><div class=\"sk-toggleable__content\"><pre>XGBClassifier(base_score=0.5, booster=&#x27;gbtree&#x27;, colsample_bylevel=1,\n",
              "              colsample_bynode=1, colsample_bytree=1, gamma=0, gpu_id=-1,\n",
              "              importance_type=&#x27;gain&#x27;, interaction_constraints=&#x27;&#x27;,\n",
              "              learning_rate=0.4, max_delta_step=0, max_depth=7,\n",
              "              min_child_weight=1, missing=nan, monotone_constraints=&#x27;()&#x27;,\n",
              "              n_estimators=100, n_jobs=12, num_parallel_tree=1, random_state=0,\n",
              "              reg_alpha=0, reg_lambda=1, scale_pos_weight=1, subsample=1,\n",
              "              tree_method=&#x27;exact&#x27;, use_label_encoder=False,\n",
              "              validate_parameters=1, verbosity=None)</pre></div></div></div></div></div>"
            ],
            "text/plain": [
              "XGBClassifier(base_score=0.5, booster='gbtree', colsample_bylevel=1,\n",
              "              colsample_bynode=1, colsample_bytree=1, gamma=0, gpu_id=-1,\n",
              "              importance_type='gain', interaction_constraints='',\n",
              "              learning_rate=0.4, max_delta_step=0, max_depth=7,\n",
              "              min_child_weight=1, missing=nan, monotone_constraints='()',\n",
              "              n_estimators=100, n_jobs=12, num_parallel_tree=1, random_state=0,\n",
              "              reg_alpha=0, reg_lambda=1, scale_pos_weight=1, subsample=1,\n",
              "              tree_method='exact', use_label_encoder=False,\n",
              "              validate_parameters=1, verbosity=None)"
            ]
          },
          "execution_count": 109,
          "metadata": {},
          "output_type": "execute_result"
        }
      ],
      "source": [
        "#XGBoost Classification model\n",
        "from xgboost import XGBClassifier\n",
        "\n",
        "# instantiate the model\n",
        "xgb = XGBClassifier(learning_rate=0.4,max_depth=7,use_label_encoder =False)\n",
        "#fit the model\n",
        "xgb.fit(X_train, Y_train,eval_metric='rmse')"
      ]
    },
    {
      "cell_type": "code",
      "execution_count": 110,
      "metadata": {
        "colab": {},
        "colab_type": "code",
        "id": "_fx9xbzfAUO-"
      },
      "outputs": [],
      "source": [
        "#predicting the target value from the model for the samples\n",
        "Y_test_xgb = xgb.predict(X_test)\n",
        "Y_train_xgb = xgb.predict(X_train)"
      ]
    },
    {
      "cell_type": "markdown",
      "metadata": {
        "colab_type": "text",
        "id": "pwoDNqDIaxB9"
      },
      "source": [
        "**Performance Evaluation:**"
      ]
    },
    {
      "cell_type": "code",
      "execution_count": 111,
      "metadata": {},
      "outputs": [
        {
          "name": "stdout",
          "output_type": "stream",
          "text": [
            "Confusion Matrix - XGB\n",
            "[[254   8]\n",
            " [ 10 220]]\n"
          ]
        }
      ],
      "source": [
        "confusion_matrix_xgb = confusion_matrix(Y_test, Y_test_xgb)\n",
        "print(\"Confusion Matrix - XGB\")\n",
        "print(confusion_matrix_xgb,)"
      ]
    },
    {
      "cell_type": "code",
      "execution_count": 112,
      "metadata": {},
      "outputs": [
        {
          "name": "stdout",
          "output_type": "stream",
          "text": [
            "tp,fp,tn,fn - XGB\n"
          ]
        }
      ],
      "source": [
        "print(\"tp,fp,tn,fn - XGB\")\n",
        "tn, fp, fn, tp = confusion_matrix(Y_test, Y_test_xgb).ravel()\n",
        "\n",
        "accuracy_model  =(tp+tn)/(tp+tn+fp+fn)\n",
        "precision_score =(tp)/(tp+fp)\n",
        "recall_score  =(tp)/(tp+fn)\n",
        "f1 =2*(( precision_score * recall_score)/( precision_score + recall_score))"
      ]
    },
    {
      "cell_type": "code",
      "execution_count": 113,
      "metadata": {},
      "outputs": [
        {
          "name": "stdout",
          "output_type": "stream",
          "text": [
            "Classification Report - XGB\n",
            "              precision    recall  f1-score   support\n",
            "\n",
            "           0       0.96      0.97      0.97       262\n",
            "           1       0.96      0.96      0.96       230\n",
            "\n",
            "    accuracy                           0.96       492\n",
            "   macro avg       0.96      0.96      0.96       492\n",
            "weighted avg       0.96      0.96      0.96       492\n",
            "\n"
          ]
        }
      ],
      "source": [
        "classification_report_xgb = classification_report(Y_test, Y_test_xgb)\n",
        "print(\"Classification Report - XGB\")\n",
        "print(classification_report_xgb)"
      ]
    },
    {
      "cell_type": "markdown",
      "metadata": {
        "colab_type": "text",
        "id": "_g2HQNotaxCQ"
      },
      "source": [
        "**Storing the results:**"
      ]
    },
    {
      "cell_type": "code",
      "execution_count": 114,
      "metadata": {
        "colab": {},
        "colab_type": "code",
        "id": "sFNo8jskaxCS"
      },
      "outputs": [],
      "source": [
        "storeResults('XGB',accuracy_model,precision_score,recall_score,f1)"
      ]
    },
    {
      "cell_type": "markdown",
      "metadata": {
        "colab_type": "text",
        "id": "plQeFh4fwB3a"
      },
      "source": [
        "### **7.5 Support Vector Machines**"
      ]
    },
    {
      "cell_type": "code",
      "execution_count": 115,
      "metadata": {
        "colab": {
          "base_uri": "https://localhost:8080/",
          "height": 83
        },
        "colab_type": "code",
        "id": "VBnV71QowZ07",
        "outputId": "258bc8b4-ba81-4036-c558-11923a7b0b5e"
      },
      "outputs": [
        {
          "data": {
            "text/html": [
              "<style>#sk-container-id-11 {color: black;background-color: white;}#sk-container-id-11 pre{padding: 0;}#sk-container-id-11 div.sk-toggleable {background-color: white;}#sk-container-id-11 label.sk-toggleable__label {cursor: pointer;display: block;width: 100%;margin-bottom: 0;padding: 0.3em;box-sizing: border-box;text-align: center;}#sk-container-id-11 label.sk-toggleable__label-arrow:before {content: \"▸\";float: left;margin-right: 0.25em;color: #696969;}#sk-container-id-11 label.sk-toggleable__label-arrow:hover:before {color: black;}#sk-container-id-11 div.sk-estimator:hover label.sk-toggleable__label-arrow:before {color: black;}#sk-container-id-11 div.sk-toggleable__content {max-height: 0;max-width: 0;overflow: hidden;text-align: left;background-color: #f0f8ff;}#sk-container-id-11 div.sk-toggleable__content pre {margin: 0.2em;color: black;border-radius: 0.25em;background-color: #f0f8ff;}#sk-container-id-11 input.sk-toggleable__control:checked~div.sk-toggleable__content {max-height: 200px;max-width: 100%;overflow: auto;}#sk-container-id-11 input.sk-toggleable__control:checked~label.sk-toggleable__label-arrow:before {content: \"▾\";}#sk-container-id-11 div.sk-estimator input.sk-toggleable__control:checked~label.sk-toggleable__label {background-color: #d4ebff;}#sk-container-id-11 div.sk-label input.sk-toggleable__control:checked~label.sk-toggleable__label {background-color: #d4ebff;}#sk-container-id-11 input.sk-hidden--visually {border: 0;clip: rect(1px 1px 1px 1px);clip: rect(1px, 1px, 1px, 1px);height: 1px;margin: -1px;overflow: hidden;padding: 0;position: absolute;width: 1px;}#sk-container-id-11 div.sk-estimator {font-family: monospace;background-color: #f0f8ff;border: 1px dotted black;border-radius: 0.25em;box-sizing: border-box;margin-bottom: 0.5em;}#sk-container-id-11 div.sk-estimator:hover {background-color: #d4ebff;}#sk-container-id-11 div.sk-parallel-item::after {content: \"\";width: 100%;border-bottom: 1px solid gray;flex-grow: 1;}#sk-container-id-11 div.sk-label:hover label.sk-toggleable__label {background-color: #d4ebff;}#sk-container-id-11 div.sk-serial::before {content: \"\";position: absolute;border-left: 1px solid gray;box-sizing: border-box;top: 0;bottom: 0;left: 50%;z-index: 0;}#sk-container-id-11 div.sk-serial {display: flex;flex-direction: column;align-items: center;background-color: white;padding-right: 0.2em;padding-left: 0.2em;position: relative;}#sk-container-id-11 div.sk-item {position: relative;z-index: 1;}#sk-container-id-11 div.sk-parallel {display: flex;align-items: stretch;justify-content: center;background-color: white;position: relative;}#sk-container-id-11 div.sk-item::before, #sk-container-id-11 div.sk-parallel-item::before {content: \"\";position: absolute;border-left: 1px solid gray;box-sizing: border-box;top: 0;bottom: 0;left: 50%;z-index: -1;}#sk-container-id-11 div.sk-parallel-item {display: flex;flex-direction: column;z-index: 1;position: relative;background-color: white;}#sk-container-id-11 div.sk-parallel-item:first-child::after {align-self: flex-end;width: 50%;}#sk-container-id-11 div.sk-parallel-item:last-child::after {align-self: flex-start;width: 50%;}#sk-container-id-11 div.sk-parallel-item:only-child::after {width: 0;}#sk-container-id-11 div.sk-dashed-wrapped {border: 1px dashed gray;margin: 0 0.4em 0.5em 0.4em;box-sizing: border-box;padding-bottom: 0.4em;background-color: white;}#sk-container-id-11 div.sk-label label {font-family: monospace;font-weight: bold;display: inline-block;line-height: 1.2em;}#sk-container-id-11 div.sk-label-container {text-align: center;}#sk-container-id-11 div.sk-container {/* jupyter's `normalize.less` sets `[hidden] { display: none; }` but bootstrap.min.css set `[hidden] { display: none !important; }` so we also need the `!important` here to be able to override the default hidden behavior on the sphinx rendered scikit-learn.org. See: https://github.com/scikit-learn/scikit-learn/issues/21755 */display: inline-block !important;position: relative;}#sk-container-id-11 div.sk-text-repr-fallback {display: none;}</style><div id=\"sk-container-id-11\" class=\"sk-top-container\"><div class=\"sk-text-repr-fallback\"><pre>SVC(kernel=&#x27;linear&#x27;, random_state=12)</pre><b>In a Jupyter environment, please rerun this cell to show the HTML representation or trust the notebook. <br />On GitHub, the HTML representation is unable to render, please try loading this page with nbviewer.org.</b></div><div class=\"sk-container\" hidden><div class=\"sk-item\"><div class=\"sk-estimator sk-toggleable\"><input class=\"sk-toggleable__control sk-hidden--visually\" id=\"sk-estimator-id-11\" type=\"checkbox\" checked><label for=\"sk-estimator-id-11\" class=\"sk-toggleable__label sk-toggleable__label-arrow\">SVC</label><div class=\"sk-toggleable__content\"><pre>SVC(kernel=&#x27;linear&#x27;, random_state=12)</pre></div></div></div></div></div>"
            ],
            "text/plain": [
              "SVC(kernel='linear', random_state=12)"
            ]
          },
          "execution_count": 115,
          "metadata": {},
          "output_type": "execute_result"
        }
      ],
      "source": [
        "#Support vector machine model\n",
        "from sklearn.svm import SVC\n",
        "\n",
        "# instantiate the model\n",
        "svm = SVC(kernel='linear', C=1.0, random_state=12)\n",
        "#fit the model\n",
        "svm.fit(X_train, Y_train)"
      ]
    },
    {
      "cell_type": "code",
      "execution_count": 116,
      "metadata": {
        "colab": {},
        "colab_type": "code",
        "id": "4Nlrfq-pwZ1G"
      },
      "outputs": [],
      "source": [
        "#predicting the target value from the model for the samples\n",
        "Y_test_svm = svm.predict(X_test)\n",
        "Y_train_svm = svm.predict(X_train)"
      ]
    },
    {
      "cell_type": "markdown",
      "metadata": {
        "colab_type": "text",
        "id": "Qb2FHrUpwZ1P"
      },
      "source": [
        "**Performance Evaluation:**"
      ]
    },
    {
      "cell_type": "code",
      "execution_count": 117,
      "metadata": {},
      "outputs": [
        {
          "name": "stdout",
          "output_type": "stream",
          "text": [
            "Confusion Matrix - SVM\n",
            "[[249  13]\n",
            " [ 18 212]]\n"
          ]
        }
      ],
      "source": [
        "confusion_matrix_dt = confusion_matrix(Y_test, Y_test_svm)\n",
        "print(\"Confusion Matrix - SVM\")\n",
        "print(confusion_matrix_dt,)"
      ]
    },
    {
      "cell_type": "code",
      "execution_count": 118,
      "metadata": {},
      "outputs": [
        {
          "name": "stdout",
          "output_type": "stream",
          "text": [
            "tp,fp,tn,fn - SVM\n"
          ]
        }
      ],
      "source": [
        "print(\"tp,fp,tn,fn - SVM\")\n",
        "tn, fp, fn, tp = confusion_matrix(Y_test, Y_test_svm).ravel()\n",
        "\n",
        "accuracy_model  =(tp+tn)/(tp+tn+fp+fn)\n",
        "precision_score =(tp)/(tp+fp)\n",
        "recall_score  =(tp)/(tp+fn)\n",
        "f1 =2*(( precision_score * recall_score)/( precision_score + recall_score))"
      ]
    },
    {
      "cell_type": "code",
      "execution_count": 119,
      "metadata": {},
      "outputs": [
        {
          "name": "stdout",
          "output_type": "stream",
          "text": [
            "Classification Report - Decision Tree\n",
            "              precision    recall  f1-score   support\n",
            "\n",
            "           0       0.93      0.95      0.94       262\n",
            "           1       0.94      0.92      0.93       230\n",
            "\n",
            "    accuracy                           0.94       492\n",
            "   macro avg       0.94      0.94      0.94       492\n",
            "weighted avg       0.94      0.94      0.94       492\n",
            "\n"
          ]
        }
      ],
      "source": [
        "classification_report_dt = classification_report(Y_test, Y_test_svm)\n",
        "print(\"Classification Report - Decision Tree\")\n",
        "print(classification_report_dt)"
      ]
    },
    {
      "cell_type": "markdown",
      "metadata": {
        "colab_type": "text",
        "id": "ToF9fRNSwZ1b"
      },
      "source": [
        "**Storing the results:**"
      ]
    },
    {
      "cell_type": "code",
      "execution_count": 120,
      "metadata": {
        "colab": {},
        "colab_type": "code",
        "id": "4ZAc00sUwZ1d"
      },
      "outputs": [],
      "source": [
        "storeResults('SVM',accuracy_model,precision_score,recall_score,f1)"
      ]
    },
    {
      "cell_type": "markdown",
      "metadata": {
        "colab_type": "text",
        "id": "k3vsRppPv3rs"
      },
      "source": [
        "## **8. Comparision of Models**\n",
        "To compare the models performance, a dataframe is created. The columns of this dataframe are the lists created to store the results of the model."
      ]
    },
    {
      "cell_type": "code",
      "execution_count": 121,
      "metadata": {
        "colab": {
          "base_uri": "https://localhost:8080/",
          "height": 227
        },
        "colab_type": "code",
        "id": "RkOSzcfsv8Xl",
        "outputId": "82b2e437-b210-4b83-c3a0-dc9c5f65f9e0"
      },
      "outputs": [
        {
          "data": {
            "text/html": [
              "<div>\n",
              "<style scoped>\n",
              "    .dataframe tbody tr th:only-of-type {\n",
              "        vertical-align: middle;\n",
              "    }\n",
              "\n",
              "    .dataframe tbody tr th {\n",
              "        vertical-align: top;\n",
              "    }\n",
              "\n",
              "    .dataframe thead th {\n",
              "        text-align: right;\n",
              "    }\n",
              "</style>\n",
              "<table border=\"1\" class=\"dataframe\">\n",
              "  <thead>\n",
              "    <tr style=\"text-align: right;\">\n",
              "      <th></th>\n",
              "      <th>ML Model</th>\n",
              "      <th>Accuracy</th>\n",
              "      <th>Precision</th>\n",
              "      <th>Recall</th>\n",
              "      <th>F1-Score</th>\n",
              "    </tr>\n",
              "  </thead>\n",
              "  <tbody>\n",
              "    <tr>\n",
              "      <th>0</th>\n",
              "      <td>Decision Tree</td>\n",
              "      <td>0.943</td>\n",
              "      <td>0.914</td>\n",
              "      <td>0.970</td>\n",
              "      <td>0.941</td>\n",
              "    </tr>\n",
              "    <tr>\n",
              "      <th>1</th>\n",
              "      <td>Random Forest</td>\n",
              "      <td>0.957</td>\n",
              "      <td>0.977</td>\n",
              "      <td>0.930</td>\n",
              "      <td>0.953</td>\n",
              "    </tr>\n",
              "    <tr>\n",
              "      <th>2</th>\n",
              "      <td>MLP</td>\n",
              "      <td>0.965</td>\n",
              "      <td>0.961</td>\n",
              "      <td>0.965</td>\n",
              "      <td>0.963</td>\n",
              "    </tr>\n",
              "    <tr>\n",
              "      <th>3</th>\n",
              "      <td>XGB</td>\n",
              "      <td>0.963</td>\n",
              "      <td>0.965</td>\n",
              "      <td>0.957</td>\n",
              "      <td>0.961</td>\n",
              "    </tr>\n",
              "    <tr>\n",
              "      <th>4</th>\n",
              "      <td>SVM</td>\n",
              "      <td>0.937</td>\n",
              "      <td>0.942</td>\n",
              "      <td>0.922</td>\n",
              "      <td>0.932</td>\n",
              "    </tr>\n",
              "  </tbody>\n",
              "</table>\n",
              "</div>"
            ],
            "text/plain": [
              "        ML Model  Accuracy  Precision  Recall  F1-Score\n",
              "0  Decision Tree     0.943      0.914   0.970     0.941\n",
              "1  Random Forest     0.957      0.977   0.930     0.953\n",
              "2            MLP     0.965      0.961   0.965     0.963\n",
              "3            XGB     0.963      0.965   0.957     0.961\n",
              "4            SVM     0.937      0.942   0.922     0.932"
            ]
          },
          "execution_count": 121,
          "metadata": {},
          "output_type": "execute_result"
        }
      ],
      "source": [
        "#creating dataframe\n",
        "results = pd.DataFrame({ 'ML Model': ML_Model,    \n",
        "    'Accuracy': accuracy,\n",
        "    'Precision': precision,\n",
        "    'Recall': recall,\n",
        "    'F1-Score': f1_score})\n",
        "results"
      ]
    },
    {
      "cell_type": "code",
      "execution_count": 122,
      "metadata": {
        "colab": {
          "base_uri": "https://localhost:8080/",
          "height": 227
        },
        "colab_type": "code",
        "id": "eKheGBiHwDfK",
        "outputId": "8ff038a3-9eea-472a-e1e7-ac6be45c9882"
      },
      "outputs": [
        {
          "data": {
            "text/html": [
              "<div>\n",
              "<style scoped>\n",
              "    .dataframe tbody tr th:only-of-type {\n",
              "        vertical-align: middle;\n",
              "    }\n",
              "\n",
              "    .dataframe tbody tr th {\n",
              "        vertical-align: top;\n",
              "    }\n",
              "\n",
              "    .dataframe thead th {\n",
              "        text-align: right;\n",
              "    }\n",
              "</style>\n",
              "<table border=\"1\" class=\"dataframe\">\n",
              "  <thead>\n",
              "    <tr style=\"text-align: right;\">\n",
              "      <th></th>\n",
              "      <th>ML Model</th>\n",
              "      <th>Accuracy</th>\n",
              "      <th>Precision</th>\n",
              "      <th>Recall</th>\n",
              "      <th>F1-Score</th>\n",
              "    </tr>\n",
              "  </thead>\n",
              "  <tbody>\n",
              "    <tr>\n",
              "      <th>2</th>\n",
              "      <td>MLP</td>\n",
              "      <td>0.965</td>\n",
              "      <td>0.961</td>\n",
              "      <td>0.965</td>\n",
              "      <td>0.963</td>\n",
              "    </tr>\n",
              "    <tr>\n",
              "      <th>3</th>\n",
              "      <td>XGB</td>\n",
              "      <td>0.963</td>\n",
              "      <td>0.965</td>\n",
              "      <td>0.957</td>\n",
              "      <td>0.961</td>\n",
              "    </tr>\n",
              "    <tr>\n",
              "      <th>1</th>\n",
              "      <td>Random Forest</td>\n",
              "      <td>0.957</td>\n",
              "      <td>0.977</td>\n",
              "      <td>0.930</td>\n",
              "      <td>0.953</td>\n",
              "    </tr>\n",
              "    <tr>\n",
              "      <th>0</th>\n",
              "      <td>Decision Tree</td>\n",
              "      <td>0.943</td>\n",
              "      <td>0.914</td>\n",
              "      <td>0.970</td>\n",
              "      <td>0.941</td>\n",
              "    </tr>\n",
              "    <tr>\n",
              "      <th>4</th>\n",
              "      <td>SVM</td>\n",
              "      <td>0.937</td>\n",
              "      <td>0.942</td>\n",
              "      <td>0.922</td>\n",
              "      <td>0.932</td>\n",
              "    </tr>\n",
              "  </tbody>\n",
              "</table>\n",
              "</div>"
            ],
            "text/plain": [
              "        ML Model  Accuracy  Precision  Recall  F1-Score\n",
              "2            MLP     0.965      0.961   0.965     0.963\n",
              "3            XGB     0.963      0.965   0.957     0.961\n",
              "1  Random Forest     0.957      0.977   0.930     0.953\n",
              "0  Decision Tree     0.943      0.914   0.970     0.941\n",
              "4            SVM     0.937      0.942   0.922     0.932"
            ]
          },
          "execution_count": 122,
          "metadata": {},
          "output_type": "execute_result"
        }
      ],
      "source": [
        "#Sorting the datafram on accuracy\n",
        "results.sort_values(by=['Accuracy', 'Precision'], ascending=False)"
      ]
    },
    {
      "cell_type": "markdown",
      "metadata": {
        "colab_type": "text",
        "id": "5t9806vn601b"
      },
      "source": [
        "For the above comparision, it is clear that the MLP and XGB Classifiers work well with this dataset.\n",
        "<br>Also Decision can be considered too since it has good accuracy and highest precision ie it has highest recall value."
      ]
    }
  ],
  "metadata": {
    "colab": {
      "collapsed_sections": [],
      "name": "Phishing Website Detection.ipynb",
      "provenance": [],
      "toc_visible": true
    },
    "kernelspec": {
      "display_name": "Python 3.9.6 64-bit",
      "language": "python",
      "name": "python3"
    },
    "language_info": {
      "codemirror_mode": {
        "name": "ipython",
        "version": 3
      },
      "file_extension": ".py",
      "mimetype": "text/x-python",
      "name": "python",
      "nbconvert_exporter": "python",
      "pygments_lexer": "ipython3",
      "version": "3.9.6"
    },
    "vscode": {
      "interpreter": {
        "hash": "9f1ed5a6caa63b933f18b2de58eb1658054e234b84bf4970be74ffb1abce9f96"
      }
    }
  },
  "nbformat": 4,
  "nbformat_minor": 0
}
